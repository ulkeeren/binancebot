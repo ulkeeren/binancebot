{
 "cells": [
  {
   "cell_type": "code",
   "execution_count": 64,
   "metadata": {},
   "outputs": [],
   "source": [
    "from binance.cm_futures import CMFutures\n",
    "import plotly.graph_objects as go\n",
    "import requests\n",
    "import json\n",
    "import numpy as np\n",
    "import pandas as pd\n",
    "from sklearn.linear_model import LinearRegression\n",
    "import datetime\n",
    "api_url = \"https://api.binance.com/api/v3/exchangeInfo\"\n",
    "response = requests.get(api_url)\n",
    "cm_futures_client = CMFutures()\n",
    "cm_futures_client = CMFutures(\"iPQMe46exUy10KiBaBahQT7ow1uzb9jaxlKj19Bg5BI8JEwJL5bw9LCvJtfKuVbP\",\"J4FGJQdGPpNGm8jpnj3IuFuDJuAe7FIa3cM51L4z662UYux3qD0ByLJ0bfIltZvK\")"
   ]
  },
  {
   "cell_type": "markdown",
   "metadata": {},
   "source": [
    "# base endpoint https://fapi.binance.com\n",
    "Most of the endpoints can be used in the testnet platform.<br>\n",
    "The REST baseurl for testnet is \"https://testnet.binancefuture.com\"<br>\n",
    "The Websocket baseurl for testnet is \"wss://fstream.binancefuture.com\"<br>\n",
    "\n"
   ]
  },
  {
   "cell_type": "code",
   "execution_count": 65,
   "metadata": {},
   "outputs": [],
   "source": [
    "#TODO: Mümkün olan bütün trading pairlerin isimlerini al\n",
    "#GET https://api.binance.com/api/v3/exchangeInfo\n",
    "\n",
    "\n",
    "if response.status_code == 200:\n",
    "    exchange_info = response.json()\n",
    "    f = open(\"usdt_pairs.txt\",\"a\")\n",
    "    for symbol in exchange_info['symbols']:\n",
    "        if 'USDT' in symbol['symbol']:\n",
    "            f.write(symbol['symbol'])\n",
    "            f.write(\"\\n\")\n",
    "    f.close()\n",
    "else:\n",
    "    print(f\"Error: {response.status_code}\")"
   ]
  },
  {
   "cell_type": "code",
   "execution_count": 66,
   "metadata": {},
   "outputs": [],
   "source": [
    "def convert_to_df(data):\n",
    "    data_df=pd.DataFrame(np.asarray(data,dtype=np.float64),columns=[\"Open Time\",\"Open\",\"High\",\"Low\",\"Close\",\"Volume\",\"Close Time\",\"Quote Asset Volume\",\"Number of Trades\",\"Taker Buy Volume\",\"Taker Buy Quote Asset Volume\",\"Ignore\"])\n",
    "    data_df['Open Time'] = pd.to_datetime(data_df['Open Time'], unit='ms')\n",
    "    data_df['Close Time'] = pd.to_datetime(data_df[\"Close Time\"],unit='ms').dt.ceil(\"min\")\n",
    "    return data_df"
   ]
  },
  {
   "cell_type": "code",
   "execution_count": 67,
   "metadata": {},
   "outputs": [],
   "source": [
    "data=convert_to_df(cm_futures_client.continuous_klines(\"BTCUSD\",contractType=\"PERPETUAL\", interval=\"15m\"))"
   ]
  },
  {
   "cell_type": "code",
   "execution_count": 68,
   "metadata": {},
   "outputs": [],
   "source": [
    "class Chart:\n",
    "    def __init__(self,data,timeframe):\n",
    "        self.data = data\n",
    "        self.timeframe = timeframe\n",
    "        self.candlesticks = go.Candlestick(x=self.data['Open Time'],\n",
    "                open=self.data['Open'],\n",
    "                high=self.data['High'],\n",
    "                low=self.data['Low'],  \n",
    "                close=self.data['Close'],name=\"Candlesticks\")\n",
    "        self.figure = go.Figure(self.candlesticks)\n",
    "        \n",
    "    def plot(self):\n",
    "        self.figure.show()\n",
    "\n",
    "    \n",
    "\n",
    "    def add_line(self,line_name,*args):\n",
    "        line = go.Scatter(x=[args[0], args[1]], y=[args[2], args[3]], mode='lines', line=dict(color='green'), name=line_name)\n",
    "        self.figure.add_trace(line)\n",
    "\n",
    "    def delete_line(self,line_name):\n",
    "        self.figure.data = [trace for trace in self.figure.data if trace.name != line_name]\n",
    "    \n",
    "    #TODO: Gradient Descent fonksiyonu\n",
    "    def gradient_descent(self):\n",
    "        #0 slope 1 intercept\n",
    "        linear_regression = LinearRegression()\n",
    "        linear_regression.fit(self.data[\"Low\"].index.values.reshape(-1,1),self.data[\"Low\"])\n",
    "        return [linear_regression.coef_[0], linear_regression.intercept_]\n",
    "        \n",
    "        \n",
    "\n",
    "    #TODO: Swing High ve Swing Low bulma\n",
    "    #Swingleri etraftaki kaç muma göre arayacağıma karar vermem lazım\n",
    "    \n",
    "        \n",
    "    #TODO: Support ve Resistance Çizme\n",
    "    \n",
    "\n",
    "    #TODO: Trend Çizme\n",
    "    \n",
    "\n"
   ]
  },
  {
   "cell_type": "code",
   "execution_count": 69,
   "metadata": {},
   "outputs": [],
   "source": [
    "btc = Chart(data,\"15m\")"
   ]
  },
  {
   "cell_type": "code",
   "execution_count": 70,
   "metadata": {},
   "outputs": [],
   "source": [
    "btc.gradient_descent()"
   ]
  },
  {
   "cell_type": "code",
   "execution_count": null,
   "metadata": {},
   "outputs": [],
   "source": []
  }
 ],
 "metadata": {
  "kernelspec": {
   "display_name": "Python 3",
   "language": "python",
   "name": "python3"
  },
  "language_info": {
   "codemirror_mode": {
    "name": "ipython",
    "version": 3
   },
   "file_extension": ".py",
   "mimetype": "text/x-python",
   "name": "python",
   "nbconvert_exporter": "python",
   "pygments_lexer": "ipython3",
   "version": "3.11.1"
  }
 },
 "nbformat": 4,
 "nbformat_minor": 2
}
